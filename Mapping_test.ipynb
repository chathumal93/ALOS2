{
 "cells": [
  {
   "cell_type": "code",
   "execution_count": null,
   "id": "0973c5a3-1e82-494c-ac87-9155fef8bb4f",
   "metadata": {},
   "outputs": [],
   "source": [
    "def geoJFeatList(raster,tile):\n",
    "  with rasterio.open(raster) as dataset:\n",
    "    bbox  = dataset.bounds\n",
    "    poly = [[[bbox[0],bbox[1]],[bbox[2],bbox[1]],[bbox[2],bbox[3]],[bbox[0],bbox[3]],[bbox[0],bbox[1]]]]\n",
    "    geom = ({'type': 'Polygon', 'coordinates': poly})\n",
    "    geom = rasterio.warp.transform_geom(dataset.crs, 'EPSG:4326', geom, precision=8)\n",
    "\n",
    "    # Tiled Raster >> tile == True // Original Image Raster >> tile == False\n",
    "    if tile == True:\n",
    "      geom = {'type': 'Feature','properties': {'id': thresh_tiles_df['Id'][i]},'geometry': geom}\n",
    "      return geom\n",
    "    else:\n",
    "      return geom"
   ]
  },
  {
   "cell_type": "code",
   "execution_count": null,
   "id": "cf87f16b-eebd-4a84-8c8c-353052bc19b0",
   "metadata": {},
   "outputs": [],
   "source": [
    "AOI = geoJFeatList(thai_dir01,False)"
   ]
  },
  {
   "cell_type": "code",
   "execution_count": null,
   "id": "14dc4409-bae6-4fe7-971b-e084f0ea0679",
   "metadata": {},
   "outputs": [],
   "source": [
    "tilesJson = dict({\n",
    "  \"type\": \"FeatureCollection\",\n",
    "  \"features\":{}})\n",
    "featList = []\n",
    "\n",
    "for i in range(len(thresh_tiles_df['Path'])):\n",
    "  featList.append(geoJFeatList(thresh_tiles_df['Path'][i],True))\n",
    "\n",
    "tilesJson['features'] = featList"
   ]
  },
  {
   "cell_type": "code",
   "execution_count": null,
   "id": "b0ba1432-354f-40e1-8100-24ccc5aacf68",
   "metadata": {},
   "outputs": [],
   "source": [
    "# Create a folium map object.\n",
    "#center = cen_co.coordinates().reverse().getInfo()\n",
    "m = folium.Map()\n",
    "basemaps['Google Satellite'].add_to(m)\n",
    "\n",
    "# Adding layers\n",
    "#m.add_ee_layer(land, elevationVis,'Elevation')\n",
    "m.add_ee_layer(slope, slopeVis,'Slope')\n",
    "\n",
    "folium.GeoJson(tilesJson, name=\"Thresh_Tiles\").add_to(m)\n",
    "folium.GeoJson(AOI, name=\"AOI\").add_to(m)\n",
    "\n",
    "#folium.GeoJson(tilesJson, name=\"geojson\").add_to(m)\n",
    "\n",
    "# Add a layer control panel to the map.\n",
    "folium.LayerControl().add_to(m)\n",
    "# Display the map.\n",
    "display(m)"
   ]
  }
 ],
 "metadata": {
  "kernelspec": {
   "display_name": "default:Python",
   "language": "python",
   "name": "conda-env-default-py"
  },
  "language_info": {
   "codemirror_mode": {
    "name": "ipython",
    "version": 3
   },
   "file_extension": ".py",
   "mimetype": "text/x-python",
   "name": "python",
   "nbconvert_exporter": "python",
   "pygments_lexer": "ipython3",
   "version": "3.9.7"
  }
 },
 "nbformat": 4,
 "nbformat_minor": 5
}
