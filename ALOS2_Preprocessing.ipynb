{
 "cells": [
  {
   "cell_type": "code",
   "execution_count": null,
   "id": "444733de-515a-4e56-b7a0-94369042b13b",
   "metadata": {
    "tags": []
   },
   "outputs": [],
   "source": [
    "# Import required packages\n",
    "import concurrent.futures\n",
    "import ee\n",
    "import glob\n",
    "import matplotlib.pyplot as plt\n",
    "import numpy as np\n",
    "import os\n",
    "import pandas as pd\n",
    "from pyproj.aoi import AreaOfInterest\n",
    "from pyproj.database import query_utm_crs_info\n",
    "import rasterio\n",
    "from rasterio.warp import calculate_default_transform, reproject, Resampling,transform_bounds\n",
    "from rasterio.merge import merge\n",
    "from rasterio.transform import Affine\n",
    "from rasterio.warp import calculate_default_transform, reproject, Resampling,transform_bounds\n",
    "import restee as ree\n",
    "from scipy.signal import medfilt2d\n",
    "from skimage.filters import threshold_otsu\n",
    "from tqdm import tqdm\n",
    "from zipfile import ZipFile"
   ]
  },
  {
   "cell_type": "code",
   "execution_count": null,
   "id": "6108fb75-eb94-46b2-a8a8-ed4be8382ace",
   "metadata": {
    "tags": []
   },
   "outputs": [],
   "source": [
    "%run Helper_Functions.ipynb"
   ]
  },
  {
   "cell_type": "code",
   "execution_count": null,
   "id": "36fecd5c-b352-4b50-805d-563aa2df4190",
   "metadata": {},
   "outputs": [],
   "source": [
    "image_directory = '../../Data'\n",
    "\n",
    "image_path = '../../Data/16c19b23-9422-4316-a261-d70575dbee32.zip'\n",
    "\n",
    "output_directory = '../../Results'\n",
    "\n",
    "tile_directory = '../../Results/Tiles'"
   ]
  },
  {
   "cell_type": "code",
   "execution_count": null,
   "id": "228e9b9e-3440-4045-89b3-9ca207409f30",
   "metadata": {},
   "outputs": [],
   "source": [
    "#wirte a code to create all the directories at once"
   ]
  },
  {
   "cell_type": "code",
   "execution_count": null,
   "id": "c03a91e6-d557-4e19-b665-9d106f0fc2e7",
   "metadata": {},
   "outputs": [],
   "source": [
    "if not os.path.exists(output_directory):\n",
    "    os.makedirs(output_directory)\n",
    "    \n",
    "with ZipFile(image_path, 'r') as zipObj:\n",
    "    listOfFileNames = zipObj.namelist()\n",
    "    for file_name in listOfFileNames:\n",
    "        if file_name.endswith('.tif'):\n",
    "            zipObj.extract(file_name,output_directory)"
   ]
  },
  {
   "cell_type": "code",
   "execution_count": null,
   "id": "ea4e7703-49ef-4717-8360-008e2e0179ed",
   "metadata": {
    "tags": []
   },
   "outputs": [],
   "source": [
    "img_list = os.listdir('../../Results')\n",
    "img_list"
   ]
  },
  {
   "cell_type": "code",
   "execution_count": null,
   "id": "706f3fa8-9f6b-41ca-8837-bad0725fbcdf",
   "metadata": {},
   "outputs": [],
   "source": [
    "img_list = glob.glob('../../Results/*.tif')\n",
    "img_list"
   ]
  },
  {
   "cell_type": "code",
   "execution_count": null,
   "id": "b9f53f7a-e0e8-4f77-a0b6-bb2e8fed8699",
   "metadata": {
    "tags": []
   },
   "outputs": [],
   "source": [
    "img_list[1]"
   ]
  },
  {
   "cell_type": "code",
   "execution_count": null,
   "id": "0f91f960-7f16-4bbc-863d-ef974592b5cb",
   "metadata": {},
   "outputs": [],
   "source": [
    "utm_epsg = utm_finder(img_list[1])"
   ]
  },
  {
   "cell_type": "code",
   "execution_count": null,
   "id": "caa60f4a-28cf-4c8e-8ee3-ca466be2bdc8",
   "metadata": {},
   "outputs": [],
   "source": [
    "resample(img_list[0],30,output_directory,'hh_resample.tif')\n",
    "resample(img_list[1],30,output_directory,'hv_resample.tif')"
   ]
  },
  {
   "cell_type": "code",
   "execution_count": null,
   "id": "605a7e51-2817-4ad6-9dc9-e46beade0f06",
   "metadata": {
    "tags": []
   },
   "outputs": [],
   "source": [
    "calibration('../../Results/hh_resample.tif',utm_epsg,output_directory,'hh_calib.tif')"
   ]
  },
  {
   "cell_type": "code",
   "execution_count": null,
   "id": "676dd00d-c000-49a0-ae5e-e2c22a95a19b",
   "metadata": {},
   "outputs": [],
   "source": [
    "calibration('../../Results/hv_resample.tif',utm_epsg,output_directory,'hv_calib.tif')"
   ]
  },
  {
   "cell_type": "code",
   "execution_count": null,
   "id": "ec57a29d-1bfd-4646-b529-a6da6848731a",
   "metadata": {},
   "outputs": [],
   "source": [
    "tile512('/content/img_preprocessed/sigmaN_HH_UTM.tif','/content/img_tiles',\"HH\")"
   ]
  },
  {
   "cell_type": "code",
   "execution_count": null,
   "id": "f0eb6027-248e-4c6f-b40c-ddcc87efb08c",
   "metadata": {},
   "outputs": [],
   "source": [
    "tile512('../../Results/hh_calib.tif',tile_directory,'hh')"
   ]
  },
  {
   "cell_type": "code",
   "execution_count": null,
   "id": "dffaad64-7f19-41c9-a599-ad97eaacdd30",
   "metadata": {},
   "outputs": [],
   "source": [
    "tile512('../../Results/hv_calib.tif',tile_directory,'hv')"
   ]
  },
  {
   "cell_type": "code",
   "execution_count": null,
   "id": "a4a90f6b-8b1c-47fb-a8bc-7eeb81ad8afd",
   "metadata": {},
   "outputs": [],
   "source": [
    "tile_list_hh = glob.glob('../../Results/temp_tiles/*hh.tif')\n",
    "tile_list_hh.sort()\n",
    "tile_list_hv = glob.glob('../../Results/temp_tiles/*hv.tif')\n",
    "tile_list_hv.sort()\n",
    "\n",
    "df = pd.DataFrame(data =[],columns=['id','HH','HV'])\n",
    "df['HH'] = tile_list_hh\n",
    "df['HV'] = tile_list_hv\n",
    "df['id'] = df.index+1"
   ]
  },
  {
   "cell_type": "code",
   "execution_count": null,
   "id": "3b122ec2-9069-44e6-ab03-3583a91d9039",
   "metadata": {},
   "outputs": [],
   "source": [
    "# 0-755\n",
    "random_id = 101\n",
    "\n",
    "f, ax = plt.subplots(1, 2, figsize=(10, 5))\n",
    "\n",
    "src_hh = rasterio.open(df['HH'][random_id])\n",
    "src_hv = rasterio.open(df['HV'][random_id])\n",
    "\n",
    "ax[0].imshow(src_hh.read(1),cmap='gray')\n",
    "ax[0].set_title(\"HH\", fontsize=14)\n",
    "ax[1].imshow(src_hv.read(1),cmap='gray')\n",
    "ax[1].set_title(\"HV\", fontsize=14)\n",
    "plt.show()\n",
    "\n",
    "src_hh.close()\n",
    "src_hv.close()"
   ]
  },
  {
   "cell_type": "code",
   "execution_count": null,
   "id": "28e83e0a-cd44-4868-9ba6-ed0d7f812d97",
   "metadata": {},
   "outputs": [],
   "source": [
    "df['HH'][100:106]"
   ]
  },
  {
   "cell_type": "code",
   "execution_count": null,
   "id": "336feb09-de00-4469-bd9d-2e71ddbf21ea",
   "metadata": {},
   "outputs": [],
   "source": [
    "#df.to_csv('../../Results/raster_tiles.csv',index=False)"
   ]
  },
  {
   "cell_type": "markdown",
   "id": "3d179ecf-afab-44be-a7e3-a39c479ef2b3",
   "metadata": {},
   "source": [
    "GEE Integration "
   ]
  },
  {
   "cell_type": "code",
   "execution_count": null,
   "id": "05d22906-ff68-434c-b0d4-4f2903a669bf",
   "metadata": {},
   "outputs": [],
   "source": [
    "# cloud project id\n",
    "PROJECTID = '*****'"
   ]
  },
  {
   "cell_type": "code",
   "execution_count": null,
   "id": "1ef98048-b5ba-4360-aa2f-720245988ae7",
   "metadata": {},
   "outputs": [],
   "source": [
    "from google.auth.transport.requests import AuthorizedSession\n",
    "\n",
    "ee.Authenticate()  #  or !earthengine authenticate --auth_mode=gcloud\n",
    "session = AuthorizedSession(ee.data.get_persistent_credentials())"
   ]
  },
  {
   "cell_type": "code",
   "execution_count": null,
   "id": "2e1471de-b087-42a6-a63c-3387ed88fb33",
   "metadata": {},
   "outputs": [],
   "source": [
    "# extending a restee session class that works\n",
    "# with user accounts and auth sessions\n",
    "# custom EE Session class that accepts an already authorized session\n",
    "class EESessionContainer(ree.EESession):\n",
    "    def __init__(self, project, session):\n",
    "        self._PROJECT = project\n",
    "        self._SESSION = session\n",
    "\n",
    "# create an EESesssion object with the correct permissions\n",
    "ee_session = EESessionContainer(PROJECTID, session)\n",
    "\n",
    "# authenticate EE with the session credentials\n",
    "ee.Initialize(ee_session.session.credentials, project=PROJECTID)"
   ]
  },
  {
   "cell_type": "code",
   "execution_count": null,
   "id": "f4cca865-6f3b-486f-88e0-ee3fc010cb2b",
   "metadata": {},
   "outputs": [],
   "source": [
    "pwater_mask_dir = '../../Results/temp_gee_pwater'\n",
    "slope_mask_dir = '../../Results/temp_gee_slope'"
   ]
  },
  {
   "cell_type": "code",
   "execution_count": null,
   "id": "f5feab87-6e47-4863-89ff-7476a21d15de",
   "metadata": {},
   "outputs": [],
   "source": [
    "# JRC water\n",
    "jrc_occ = ee.Image('JRC/GSW1_4/GlobalSurfaceWater').select('occurrence')\n",
    "jrc_occ = jrc_occ.rename('pwater_mask')\n",
    "pwater_mask = jrc_occ.select('pwater_mask').gt(90).selfMask()\n",
    "\n",
    "# SRTM improved dem\n",
    "elevation = ee.Image('NASA/NASADEM_HGT/001').select('elevation')\n",
    "slope = ee.Terrain.slope(elevation)\n",
    "slope_mask = slope.lt(5).selfMask().rename('slope_mask')"
   ]
  },
  {
   "cell_type": "code",
   "execution_count": null,
   "id": "2629713c-fb55-4e07-b3ff-36d12beb372a",
   "metadata": {},
   "outputs": [],
   "source": [
    "tile_list = tile_list_hh"
   ]
  },
  {
   "cell_type": "code",
   "execution_count": null,
   "id": "cde7a583-138e-4c33-a21e-7f2c18e80ec7",
   "metadata": {},
   "outputs": [],
   "source": [
    "with tqdm(total=len(tile_list),position=0, leave=True, desc=\"GEE data request progress: JRC Water data\") as pbar:     \n",
    "    with concurrent.futures.ThreadPoolExecutor(max_workers=10) as executor: \n",
    "        # Start the load operations and mark each future with its chip        \n",
    "        future_to_chip = {executor.submit(restgee_data,chip,pwater_mask, 'pwater_mask', pwater_mask_dir): chip for chip in tile_list}          \n",
    "        for future in concurrent.futures.as_completed(future_to_chip):\n",
    "            chip = future_to_chip[future]\n",
    "            pbar.update(n=1)"
   ]
  },
  {
   "cell_type": "code",
   "execution_count": null,
   "id": "c23fbeb2-1d32-4b80-b8b5-ba887e41e9e7",
   "metadata": {},
   "outputs": [],
   "source": [
    "with tqdm(total=len(tile_list),position=0, leave=True, desc=\"GEE data request progress: NASA SRTM data\") as pbar:      \n",
    "    with concurrent.futures.ThreadPoolExecutor(max_workers=10) as executor: \n",
    "        # Start the load operations and mark each future with its chip        \n",
    "        future_to_chip = {executor.submit(restgee_data,chip,slope_mask, 'slope_mask', slope_mask_dir): chip for chip in tile_list}          \n",
    "        for future in concurrent.futures.as_completed(future_to_chip):\n",
    "            chip = future_to_chip[future]\n",
    "            pbar.update(n=1)"
   ]
  },
  {
   "cell_type": "code",
   "execution_count": null,
   "id": "5d1c1fb7-5bf1-4ddf-9534-f643be0855f9",
   "metadata": {},
   "outputs": [],
   "source": [
    "tile_list_pwater_mask = glob.glob(os.path.join(pwater_mask_dir,'*'))\n",
    "tile_list_pwater_mask.sort()\n",
    "tile_list_slope_mask = glob.glob(os.path.join(slope_mask_dir,'*'))\n",
    "tile_list_slope_mask.sort()"
   ]
  },
  {
   "cell_type": "code",
   "execution_count": null,
   "id": "21406832-c926-43d6-8c82-953458bb012c",
   "metadata": {},
   "outputs": [],
   "source": [
    "df['pwater_msk'] = tile_list_pwater_mask\n",
    "df['slope_msk'] = tile_list_slope_mask"
   ]
  },
  {
   "cell_type": "code",
   "execution_count": null,
   "id": "c99fbb5e-37d5-42a2-a6d5-847c2f74e690",
   "metadata": {},
   "outputs": [],
   "source": [
    "#df.to_csv('../../Results/raster_tiles.csv',index=False)"
   ]
  },
  {
   "cell_type": "code",
   "execution_count": null,
   "id": "aa3dfe9f-ebab-436c-a8f0-02de9da7d852",
   "metadata": {},
   "outputs": [],
   "source": [
    "# 0-755\n",
    "random_id = 101\n",
    "\n",
    "f, ax = plt.subplots(1, 4, figsize=(20, 6))\n",
    "src_hh = rasterio.open(df['HH'][random_id])\n",
    "src_hv = rasterio.open(df['HV'][random_id])\n",
    "src_slp_msk = rasterio.open(df['slope_msk'][random_id])\n",
    "src_wat_msk = rasterio.open(df['pwater_msk'][random_id])\n",
    "\n",
    "ax[0].imshow(src_hh.read(1),cmap='gray')\n",
    "ax[0].set_title(\"HH\", fontsize=14)\n",
    "ax[1].imshow(src_hv.read(1),cmap='gray')\n",
    "ax[1].set_title(\"HV\", fontsize=14)\n",
    "ax[2].imshow(src_wat_msk.read(1),cmap='winter_r')\n",
    "ax[2].set_title(\"Water Mask\", fontsize=14)\n",
    "ax[3].imshow(src_slp_msk.read(1),cmap='copper')\n",
    "ax[3].set_title(\"Slope Mask\", fontsize=14)\n",
    "\n",
    "plt.show()\n",
    "\n",
    "src_hh.close()\n",
    "src_hv.close()\n",
    "src_slp_msk.close()\n",
    "src_wat_msk.close()"
   ]
  },
  {
   "cell_type": "code",
   "execution_count": null,
   "id": "2f79371b-fd47-4a31-8190-514722f83393",
   "metadata": {},
   "outputs": [],
   "source": [
    "# raster tile masking"
   ]
  },
  {
   "cell_type": "code",
   "execution_count": null,
   "id": "28498bee-185c-4544-8139-07e98711583a",
   "metadata": {},
   "outputs": [],
   "source": [
    "masked_tile_dir = '../../Results/maksed_tiles'"
   ]
  },
  {
   "cell_type": "code",
   "execution_count": null,
   "id": "2e8ae905-c102-4612-8a20-15f18af2c231",
   "metadata": {},
   "outputs": [],
   "source": [
    "for i in tqdm(range(len(df['HH'])), desc=\"Data Masking Progress\" ):\n",
    "    pwater_slope_masking(df['HH'][i],df['pwater_msk'][i],df['slope_msk'][i],masked_tile_dir)"
   ]
  },
  {
   "cell_type": "code",
   "execution_count": null,
   "id": "8c2954ca-8dbc-45c6-9d1c-7c8a2faadadc",
   "metadata": {},
   "outputs": [],
   "source": [
    "for i in tqdm(range(len(df['HV'])), desc=\"Data Masking Progress\" ):\n",
    "    pwater_slope_masking(df['HV'][i],df['pwater_msk'][i],df['slope_msk'][i],masked_tile_dir)"
   ]
  },
  {
   "cell_type": "code",
   "execution_count": null,
   "id": "b4babb3e-5549-4e7b-9b2c-b01561802820",
   "metadata": {},
   "outputs": [],
   "source": [
    "tile_list_mask_hh = glob.glob(os.path.join(masked_tile_dir,'*hh_masked.tif'))\n",
    "tile_list_mask_hh.sort()\n",
    "tile_list_mask_hv = glob.glob(os.path.join(masked_tile_dir,'*hv_masked.tif'))\n",
    "tile_list_mask_hv.sort()\n",
    "\n",
    "df['masked_hh'] = tile_list_mask_hh\n",
    "df['masked_hv'] = tile_list_mask_hv"
   ]
  },
  {
   "cell_type": "code",
   "execution_count": null,
   "id": "360c4959-3573-4b97-8629-720eb91dfbf2",
   "metadata": {},
   "outputs": [],
   "source": [
    "# 0-755\n",
    "random_id = 101\n",
    "\n",
    "f, ax = plt.subplots(1, 4, figsize=(20, 6))\n",
    "src_hh = rasterio.open(df['HH'][random_id])\n",
    "src_hv = rasterio.open(df['HV'][random_id])\n",
    "src_msk_hh = rasterio.open(df['masked_hh'][random_id])\n",
    "src_msk_hv = rasterio.open(df['masked_hv'][random_id])\n",
    "\n",
    "ax[0].imshow(src_hh.read(1),cmap='gray')\n",
    "ax[0].set_title(\"HH\", fontsize=14)\n",
    "ax[1].imshow(src_hv.read(1),cmap='gray')\n",
    "ax[1].set_title(\"HV\", fontsize=14)\n",
    "ax[2].imshow(src_msk_hh.read(1),cmap='gray')\n",
    "ax[2].set_title(\"Masked HH\", fontsize=14)\n",
    "ax[3].imshow(src_msk_hv.read(1),cmap='gray')\n",
    "ax[3].set_title(\"Masked HV\", fontsize=14)\n",
    "\n",
    "plt.show()\n",
    "\n",
    "src_hh.close()\n",
    "src_hv.close()\n",
    "src_msk_hh.close()\n",
    "src_msk_hv.close()"
   ]
  },
  {
   "cell_type": "code",
   "execution_count": null,
   "id": "4d06e485-b13c-4a75-a0ae-7e0c24b5c788",
   "metadata": {},
   "outputs": [],
   "source": [
    "df.to_csv('../../Results/raster_tiles.csv',index=False)"
   ]
  },
  {
   "cell_type": "markdown",
   "id": "1faaa08c-1300-4719-813d-af918266b4d7",
   "metadata": {},
   "source": [
    "Calculating Statistics of masked hh,hv raster tiles"
   ]
  },
  {
   "cell_type": "code",
   "execution_count": null,
   "id": "49c88d90-cac2-42ad-b315-7084291a5c5e",
   "metadata": {},
   "outputs": [],
   "source": [
    "df = pd.read_csv('../../Results/raster_tiles.csv')"
   ]
  },
  {
   "cell_type": "code",
   "execution_count": null,
   "id": "f2c31742-83c9-4fd8-8d56-6e728bc8c9c9",
   "metadata": {},
   "outputs": [],
   "source": [
    "import warnings\n",
    "warnings.filterwarnings('ignore')\n",
    "\n",
    "with tqdm(total=len(df),position=0, leave=True, desc=\"Calculating statistics for HH and HV tiles\") as pbar:\n",
    "    for index, row in df.iterrows():\n",
    "        src1 = rasterio.open(row['masked_hh'])\n",
    "        arr_1 = src1.read(1)\n",
    "        src2 = rasterio.open(row['masked_hv'])\n",
    "        arr_2 = src2.read(1)\n",
    "    \n",
    "        #calculations\n",
    "        hh_mean = np.nanmean(arr_1)\n",
    "        hv_mean = np.nanmean(arr_2)   \n",
    "        hh_std_2nd = 2*(np.nanstd(arr_1))\n",
    "        hv_std_2nd = 2*(np.nanstd(arr_2))  \n",
    "        \n",
    "        df.loc[index,'hh_2ndSTD'] = 2*(np.nanstd(arr_1))\n",
    "        df.loc[index,'hv_2ndSTD'] = 2*(np.nanstd(arr_2))\n",
    "        df.loc[index,'nan_percent'] = np.count_nonzero(~np.isnan(arr_1))*100 /arr_1.size\n",
    "        \n",
    "        src1.close()\n",
    "        src2.close()  \n",
    "        pbar.update(n=1) \n",
    "    "
   ]
  },
  {
   "cell_type": "code",
   "execution_count": null,
   "id": "c612dd85-ee11-44e9-9eb9-5316e6bbd219",
   "metadata": {},
   "outputs": [],
   "source": [
    "df = df[df.nan_percent != 0.0]\n",
    "df_refined = df.loc[df['nan_percent']>50]"
   ]
  },
  {
   "cell_type": "code",
   "execution_count": null,
   "id": "6a578afb-5b9e-4a8b-8162-0680a22ee404",
   "metadata": {},
   "outputs": [],
   "source": [
    "df_refined_hh = df_refined.sort_values(by=['hh_2ndSTD'],ascending=False).head(10).reset_index().drop(['index'],axis=1)\n",
    "df_refined_hv = df_refined.sort_values(by=['hv_2ndSTD'],ascending=False).head(10).reset_index().drop(['index'],axis=1)\n",
    "#df_refined_hh_hv = df_refined.sort_values(by=['hh_2ndSTD','hv_2ndSTD'],ascending=False).head(5).reset_index().drop(['index'],axis=1)"
   ]
  },
  {
   "cell_type": "code",
   "execution_count": null,
   "id": "2d8bce2f-b13b-4d5c-a620-a787b85f7b00",
   "metadata": {},
   "outputs": [],
   "source": [
    "for index, row in df_refined_hh.iterrows():\n",
    "    src = rasterio.open(row['masked_hh'])\n",
    "    band = src.read(1)\n",
    "    band_filtered = band[~np.isnan(band)]\n",
    "    otsu = threshold_otsu(band_filtered)\n",
    "    df_refined_hh.loc[index,'otsu'] = otsu\n",
    "    src.close()\n",
    "    \n",
    "for index, row in df_refined_hv.iterrows():\n",
    "    src = rasterio.open(row['masked_hv'])\n",
    "    band = src.read(1)\n",
    "    band_filtered = band[~np.isnan(band)]\n",
    "    otsu = threshold_otsu(band_filtered)\n",
    "    df_refined_hv.loc[index,'otsu'] = otsu\n",
    "    src.close()   "
   ]
  },
  {
   "cell_type": "code",
   "execution_count": null,
   "id": "8514e5ee-7be2-4fe9-b8eb-1a17b79320e3",
   "metadata": {},
   "outputs": [],
   "source": [
    "df_refined_hh.head()"
   ]
  },
  {
   "cell_type": "markdown",
   "id": "0592c082-a411-4191-9f96-38969d952541",
   "metadata": {},
   "source": [
    "Threshold caculation based on polarization"
   ]
  },
  {
   "cell_type": "markdown",
   "id": "069001d8-7c0c-402b-a880-f6d1716cb71a",
   "metadata": {},
   "source": [
    "In this case HH polarization is used"
   ]
  },
  {
   "cell_type": "code",
   "execution_count": null,
   "id": "58870c47-2e97-446b-9758-035f8eac83e3",
   "metadata": {},
   "outputs": [],
   "source": [
    "thresold_tile_dir  = '../../Results/temp_thresh_tiles'"
   ]
  },
  {
   "cell_type": "code",
   "execution_count": null,
   "id": "959564b3-babc-46a6-93f2-a28f86d1c67c",
   "metadata": {},
   "outputs": [],
   "source": [
    "otsu_mean_thresh = df_refined_hh['otsu'].mean()\n",
    "otsu_median_thresh = df_refined_hh['otsu'].median()"
   ]
  },
  {
   "cell_type": "code",
   "execution_count": null,
   "id": "58e70bf9-0e74-474a-8174-95a7aa3922cc",
   "metadata": {},
   "outputs": [],
   "source": [
    "with tqdm(total=len(df),position=0, leave=True, desc=\"Binary thresholding progress\") as pbar:\n",
    "    for index, row in df.iterrows():\n",
    "        with rasterio.open(row['masked_hh']) as dataset:\n",
    "            kwargs = dataset.meta.copy()\n",
    "            outfile_bin_filt_path = os.path.join(thresold_tile_dir,os.path.basename(row['masked_hh']).split('_masked.tif')[0]+'_msk_bin_filt.tif')            \n",
    "            df.loc[index,'masked_bin_filt'] = outfile_bin_filt_path           \n",
    "            band = dataset.read(1)\n",
    "            band_bin = band < otsu_median_thresh\n",
    "            \n",
    "            #filtering using median filter\n",
    "            band_bin_filt =  medfilt2d(np.float32(band_bin), kernel_size=3)  \n",
    "            #band_bin_filt[band_bin_filt==0.0]=np.nan\n",
    "            with rasterio.open(outfile_bin_filt_path, 'w', **kwargs) as dst_bin_filt:\n",
    "                dst_bin_filt.write(band_bin_filt, 1)     \n",
    "            pbar.update(n=1)   "
   ]
  },
  {
   "cell_type": "code",
   "execution_count": null,
   "id": "19b66a14-1970-4bd7-8740-b5e3780daa14",
   "metadata": {},
   "outputs": [],
   "source": [
    "df.head()"
   ]
  },
  {
   "cell_type": "code",
   "execution_count": null,
   "id": "a2e941cb-e214-4480-8852-7dca2bd0cc57",
   "metadata": {},
   "outputs": [],
   "source": [
    "fig = plt.figure(constrained_layout=True,figsize=(15,5))\n",
    "#fig.suptitle('Figure title')\n",
    "subfig_titles = ['HH','HH_bin_filterd']\n",
    "color_map = ['gray','winter_r']\n",
    "\n",
    "img_list = np.array([df['HH'][200:205],df['masked_bin_filt'][200:205]])\n",
    "# create 3x1 subfigs\n",
    "subfigs = fig.subfigures(nrows=2, ncols=1)\n",
    "for row, subfig in enumerate(subfigs):\n",
    "    subfig.suptitle(subfig_titles[row])\n",
    "    # create 1x3 subplots per subfig\n",
    "    axs = subfig.subplots(nrows=1, ncols=4)\n",
    "    for col, ax in enumerate(axs):\n",
    "        src = rasterio.open(img_list[row][col])\n",
    "        ax.imshow(src.read(1),cmap=color_map[row])             \n",
    "        src.close()\n",
    "\n",
    "#plt.savefig('../../Results/df_refined_hv.png')"
   ]
  },
  {
   "cell_type": "code",
   "execution_count": null,
   "id": "0a16e375-adaa-49ba-9c63-0898006ea495",
   "metadata": {},
   "outputs": [],
   "source": [
    "flood_product_dir = '../../Results/Flood_product'"
   ]
  },
  {
   "cell_type": "code",
   "execution_count": null,
   "id": "0908fde3-8517-47d2-98cb-bad5923333d4",
   "metadata": {
    "tags": []
   },
   "outputs": [],
   "source": [
    "src_files_to_mosaic = list(df['masked_bin_filt']) \n",
    "\n",
    "\n",
    "mosaic, out_trans = merge(src_files_to_mosaic)\n",
    "'''out_meta.update({\"driver\": \"GTiff\",\n",
    "                 \"height\": mosaic.shape[1],\n",
    "                 \"width\": mosaic.shape[2],\n",
    "                 \"transform\": out_trans,\n",
    "                 \"crs\": utm_epsg,\n",
    "                 'compress': 'lzw',\n",
    "                 'dtype':'float32',\n",
    "                 'nodata':np.nan})'''\n",
    "out_meta = {'driver': \"GTiff\",\n",
    "            'height': mosaic.shape[1],\n",
    "            'width': mosaic.shape[2],\n",
    "            'transform': out_trans,\n",
    "            'crs': utm_epsg,\n",
    "            'count':1,\n",
    "            'compress': 'lzw',\n",
    "            'dtype':'float32',\n",
    "            'nodata':np.nan}\n",
    "\n",
    "mosaic = mosaic[0]\n",
    "mosaic[mosaic==0.0]=np.nan\n",
    "               \n",
    "with rasterio.open(os.path.join(flood_product_dir,'flood_layer_hh.tif'), \"w\", **out_meta) as dest:\n",
    "    dest.write(mosaic,1)\n"
   ]
  }
 ],
 "metadata": {
  "kernelspec": {
   "display_name": "default:Python",
   "language": "python",
   "name": "conda-env-default-py"
  },
  "language_info": {
   "codemirror_mode": {
    "name": "ipython",
    "version": 3
   },
   "file_extension": ".py",
   "mimetype": "text/x-python",
   "name": "python",
   "nbconvert_exporter": "python",
   "pygments_lexer": "ipython3",
   "version": "3.9.7"
  }
 },
 "nbformat": 4,
 "nbformat_minor": 5
}
