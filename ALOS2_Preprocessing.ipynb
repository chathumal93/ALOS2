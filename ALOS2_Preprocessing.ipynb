{
 "cells": [
  {
   "cell_type": "code",
   "execution_count": null,
   "id": "f7ef8129-0447-46ad-9dae-c5d54f74bc44",
   "metadata": {},
   "outputs": [],
   "source": [
    "#!pip install scipy"
   ]
  },
  {
   "cell_type": "code",
   "execution_count": null,
   "id": "d9a33434-0c14-4a1d-bdcc-6a582b4c438b",
   "metadata": {},
   "outputs": [],
   "source": [
    "#!pip install matplotlib"
   ]
  },
  {
   "cell_type": "code",
   "execution_count": null,
   "id": "444733de-515a-4e56-b7a0-94369042b13b",
   "metadata": {},
   "outputs": [],
   "source": [
    "# Import required packages\n",
    "import os\n",
    "import glob\n",
    "from zipfile import ZipFile\n",
    "\n",
    "import numpy as np\n",
    "\n",
    "import rasterio\n",
    "\n",
    "from pyproj.aoi import AreaOfInterest\n",
    "from pyproj.database import query_utm_crs_info\n",
    "from rasterio.warp import calculate_default_transform, reproject, Resampling,transform_bounds"
   ]
  },
  {
   "cell_type": "code",
   "execution_count": null,
   "id": "6108fb75-eb94-46b2-a8a8-ed4be8382ace",
   "metadata": {
    "tags": []
   },
   "outputs": [],
   "source": [
    "%run Helper_Functions.ipynb"
   ]
  },
  {
   "cell_type": "code",
   "execution_count": null,
   "id": "c4ba0ff7-f6ec-4ebf-9b65-f2bc29f5e752",
   "metadata": {},
   "outputs": [],
   "source": [
    "from scipy.signal import medfilt2d"
   ]
  },
  {
   "cell_type": "code",
   "execution_count": null,
   "id": "36fecd5c-b352-4b50-805d-563aa2df4190",
   "metadata": {},
   "outputs": [],
   "source": [
    "image_directory = ''\n",
    "\n",
    "image_path = 'ALOS2/16c19b23-9422-4316-a261-d70575dbee32.zip'\n",
    "\n",
    "output_directory = 'ALOS2/Results'"
   ]
  },
  {
   "cell_type": "code",
   "execution_count": null,
   "id": "c03a91e6-d557-4e19-b665-9d106f0fc2e7",
   "metadata": {},
   "outputs": [],
   "source": [
    "if not os.path.exists(output_directory):\n",
    "    os.makedirs(output_directory)\n",
    "    \n",
    "with ZipFile(image_path, 'r') as zipObj:\n",
    "    listOfFileNames = zipObj.namelist()\n",
    "    for file_name in listOfFileNames:\n",
    "        if file_name.endswith('.tif'):\n",
    "            zipObj.extract(file_name,output_directory)"
   ]
  },
  {
   "cell_type": "code",
   "execution_count": null,
   "id": "ea4e7703-49ef-4717-8360-008e2e0179ed",
   "metadata": {
    "tags": []
   },
   "outputs": [],
   "source": [
    "img_list = glob.glob('ALOS2/Results/*')"
   ]
  },
  {
   "cell_type": "code",
   "execution_count": null,
   "id": "b9f53f7a-e0e8-4f77-a0b6-bb2e8fed8699",
   "metadata": {
    "tags": []
   },
   "outputs": [],
   "source": [
    "img_list[1]"
   ]
  },
  {
   "cell_type": "code",
   "execution_count": null,
   "id": "0f91f960-7f16-4bbc-863d-ef974592b5cb",
   "metadata": {},
   "outputs": [],
   "source": [
    "utm_epsg = utm_finder(img_list[1])"
   ]
  },
  {
   "cell_type": "code",
   "execution_count": null,
   "id": "caa60f4a-28cf-4c8e-8ee3-ca466be2bdc8",
   "metadata": {},
   "outputs": [],
   "source": [
    "resample(img_list[0],30,output_directory,'hh_resample.tif')\n",
    "resample(img_list[1],30,output_directory,'hv_resample.tif')"
   ]
  },
  {
   "cell_type": "code",
   "execution_count": null,
   "id": "605a7e51-2817-4ad6-9dc9-e46beade0f06",
   "metadata": {
    "tags": []
   },
   "outputs": [],
   "source": [
    "calibration('ALOS2/Results/hh_resample.tif',utm_epsg,'ALOS2/Results','hh_calib.tif')"
   ]
  },
  {
   "cell_type": "code",
   "execution_count": null,
   "id": "676dd00d-c000-49a0-ae5e-e2c22a95a19b",
   "metadata": {},
   "outputs": [],
   "source": [
    "calibration('ALOS2/Results/hv_resample.tif',utm_epsg,'ALOS2/Results','hv_calib.tif')"
   ]
  },
  {
   "cell_type": "code",
   "execution_count": null,
   "id": "70141b0c-f18b-4167-9dd0-0b3bbaf740bb",
   "metadata": {},
   "outputs": [],
   "source": []
  }
 ],
 "metadata": {
  "kernelspec": {
   "display_name": "default:Python",
   "language": "python",
   "name": "conda-env-default-py"
  },
  "language_info": {
   "codemirror_mode": {
    "name": "ipython",
    "version": 3
   },
   "file_extension": ".py",
   "mimetype": "text/x-python",
   "name": "python",
   "nbconvert_exporter": "python",
   "pygments_lexer": "ipython3",
   "version": "3.9.7"
  }
 },
 "nbformat": 4,
 "nbformat_minor": 5
}
